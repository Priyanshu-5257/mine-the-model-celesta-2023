{
 "cells": [
  {
   "cell_type": "code",
   "execution_count": 1,
   "id": "48dff2b1",
   "metadata": {},
   "outputs": [],
   "source": [
    "import pandas as pd\n",
    "import numpy as np"
   ]
  },
  {
   "cell_type": "code",
   "execution_count": 10,
   "id": "7bfb47f0",
   "metadata": {},
   "outputs": [],
   "source": [
    "import cv2"
   ]
  },
  {
   "cell_type": "code",
   "execution_count": 2,
   "id": "81d5a53d",
   "metadata": {},
   "outputs": [],
   "source": [
    "import tensorflow as tf\n",
    "from tensorflow.keras.layers import Dense,MaxPooling2D,Conv2D,Flatten,Input,InputLayer"
   ]
  },
  {
   "cell_type": "code",
   "execution_count": 3,
   "id": "c37fa08b",
   "metadata": {},
   "outputs": [],
   "source": [
    "df=pd.read_csv(\"train.csv\")\n",
    "df=df.drop([\"address\",\"index\",\"city\"],axis=1)\n",
    "train_id=df['image_id']\n",
    "df=df.drop('image_id',axis=1)"
   ]
  },
  {
   "cell_type": "code",
   "execution_count": 4,
   "id": "172bd5f1",
   "metadata": {},
   "outputs": [
    {
     "data": {
      "text/html": [
       "<div>\n",
       "<style scoped>\n",
       "    .dataframe tbody tr th:only-of-type {\n",
       "        vertical-align: middle;\n",
       "    }\n",
       "\n",
       "    .dataframe tbody tr th {\n",
       "        vertical-align: top;\n",
       "    }\n",
       "\n",
       "    .dataframe thead th {\n",
       "        text-align: right;\n",
       "    }\n",
       "</style>\n",
       "<table border=\"1\" class=\"dataframe\">\n",
       "  <thead>\n",
       "    <tr style=\"text-align: right;\">\n",
       "      <th></th>\n",
       "      <th>rooms</th>\n",
       "      <th>retail_price</th>\n",
       "      <th>sqft</th>\n",
       "      <th>toilets</th>\n",
       "    </tr>\n",
       "  </thead>\n",
       "  <tbody>\n",
       "    <tr>\n",
       "      <th>0</th>\n",
       "      <td>2.0</td>\n",
       "      <td>299000</td>\n",
       "      <td>1295.0</td>\n",
       "      <td>2.0</td>\n",
       "    </tr>\n",
       "    <tr>\n",
       "      <th>1</th>\n",
       "      <td>3.0</td>\n",
       "      <td>299000</td>\n",
       "      <td>1566.0</td>\n",
       "      <td>2.0</td>\n",
       "    </tr>\n",
       "    <tr>\n",
       "      <th>2</th>\n",
       "      <td>5.0</td>\n",
       "      <td>499990</td>\n",
       "      <td>3068.0</td>\n",
       "      <td>3.0</td>\n",
       "    </tr>\n",
       "    <tr>\n",
       "      <th>3</th>\n",
       "      <td>4.0</td>\n",
       "      <td>849900</td>\n",
       "      <td>2230.0</td>\n",
       "      <td>2.1</td>\n",
       "    </tr>\n",
       "    <tr>\n",
       "      <th>4</th>\n",
       "      <td>3.0</td>\n",
       "      <td>333490</td>\n",
       "      <td>1898.0</td>\n",
       "      <td>2.0</td>\n",
       "    </tr>\n",
       "  </tbody>\n",
       "</table>\n",
       "</div>"
      ],
      "text/plain": [
       "   rooms  retail_price    sqft  toilets\n",
       "0    2.0        299000  1295.0      2.0\n",
       "1    3.0        299000  1566.0      2.0\n",
       "2    5.0        499990  3068.0      3.0\n",
       "3    4.0        849900  2230.0      2.1\n",
       "4    3.0        333490  1898.0      2.0"
      ]
     },
     "execution_count": 4,
     "metadata": {},
     "output_type": "execute_result"
    }
   ],
   "source": [
    "df.head()"
   ]
  },
  {
   "cell_type": "code",
   "execution_count": 5,
   "id": "c24a5246",
   "metadata": {},
   "outputs": [
    {
     "data": {
      "text/plain": [
       "rooms           196\n",
       "retail_price      0\n",
       "sqft            147\n",
       "toilets           0\n",
       "dtype: int64"
      ]
     },
     "execution_count": 5,
     "metadata": {},
     "output_type": "execute_result"
    }
   ],
   "source": [
    "df.isna().sum()"
   ]
  },
  {
   "cell_type": "code",
   "execution_count": 6,
   "id": "152d0c38",
   "metadata": {},
   "outputs": [],
   "source": [
    "df['rooms']=df['rooms'].fillna(df['rooms'].mean())"
   ]
  },
  {
   "cell_type": "code",
   "execution_count": 7,
   "id": "7ed4a272",
   "metadata": {},
   "outputs": [],
   "source": [
    "df['sqft']=df['sqft'].fillna(df['sqft'].mean())"
   ]
  },
  {
   "cell_type": "code",
   "execution_count": 8,
   "id": "08122ba9",
   "metadata": {},
   "outputs": [],
   "source": [
    "path=[]\n",
    "image_id=[]\n",
    "for id in train_id:\n",
    "    i=0\n",
    "    path_=f\"train_images/train/{id}.jpg\"\n",
    "    i=i+1\n",
    "    path.append(path_)\n",
    "    image_id.append(id)"
   ]
  },
  {
   "cell_type": "code",
   "execution_count": 9,
   "id": "27bbea31",
   "metadata": {},
   "outputs": [],
   "source": [
    "df['path']=path"
   ]
  },
  {
   "cell_type": "code",
   "execution_count": 16,
   "id": "ae999bf6",
   "metadata": {},
   "outputs": [
    {
     "data": {
      "text/html": [
       "<div>\n",
       "<style scoped>\n",
       "    .dataframe tbody tr th:only-of-type {\n",
       "        vertical-align: middle;\n",
       "    }\n",
       "\n",
       "    .dataframe tbody tr th {\n",
       "        vertical-align: top;\n",
       "    }\n",
       "\n",
       "    .dataframe thead th {\n",
       "        text-align: right;\n",
       "    }\n",
       "</style>\n",
       "<table border=\"1\" class=\"dataframe\">\n",
       "  <thead>\n",
       "    <tr style=\"text-align: right;\">\n",
       "      <th></th>\n",
       "      <th>rooms</th>\n",
       "      <th>retail_price</th>\n",
       "      <th>sqft</th>\n",
       "      <th>toilets</th>\n",
       "      <th>path</th>\n",
       "    </tr>\n",
       "  </thead>\n",
       "  <tbody>\n",
       "    <tr>\n",
       "      <th>0</th>\n",
       "      <td>2.0</td>\n",
       "      <td>299000</td>\n",
       "      <td>1295.0</td>\n",
       "      <td>2.0</td>\n",
       "      <td>train_images/train/5832.jpg</td>\n",
       "    </tr>\n",
       "    <tr>\n",
       "      <th>1</th>\n",
       "      <td>3.0</td>\n",
       "      <td>299000</td>\n",
       "      <td>1566.0</td>\n",
       "      <td>2.0</td>\n",
       "      <td>train_images/train/5584.jpg</td>\n",
       "    </tr>\n",
       "    <tr>\n",
       "      <th>2</th>\n",
       "      <td>5.0</td>\n",
       "      <td>499990</td>\n",
       "      <td>3068.0</td>\n",
       "      <td>3.0</td>\n",
       "      <td>train_images/train/9408.jpg</td>\n",
       "    </tr>\n",
       "    <tr>\n",
       "      <th>3</th>\n",
       "      <td>4.0</td>\n",
       "      <td>849900</td>\n",
       "      <td>2230.0</td>\n",
       "      <td>2.1</td>\n",
       "      <td>train_images/train/4644.jpg</td>\n",
       "    </tr>\n",
       "    <tr>\n",
       "      <th>4</th>\n",
       "      <td>3.0</td>\n",
       "      <td>333490</td>\n",
       "      <td>1898.0</td>\n",
       "      <td>2.0</td>\n",
       "      <td>train_images/train/5739.jpg</td>\n",
       "    </tr>\n",
       "    <tr>\n",
       "      <th>...</th>\n",
       "      <td>...</td>\n",
       "      <td>...</td>\n",
       "      <td>...</td>\n",
       "      <td>...</td>\n",
       "      <td>...</td>\n",
       "    </tr>\n",
       "    <tr>\n",
       "      <th>8395</th>\n",
       "      <td>4.0</td>\n",
       "      <td>289990</td>\n",
       "      <td>1498.0</td>\n",
       "      <td>2.0</td>\n",
       "      <td>train_images/train/792.jpg</td>\n",
       "    </tr>\n",
       "    <tr>\n",
       "      <th>8396</th>\n",
       "      <td>4.0</td>\n",
       "      <td>895000</td>\n",
       "      <td>2981.0</td>\n",
       "      <td>3.0</td>\n",
       "      <td>train_images/train/10671.jpg</td>\n",
       "    </tr>\n",
       "    <tr>\n",
       "      <th>8397</th>\n",
       "      <td>3.0</td>\n",
       "      <td>479900</td>\n",
       "      <td>1272.0</td>\n",
       "      <td>1.0</td>\n",
       "      <td>train_images/train/11650.jpg</td>\n",
       "    </tr>\n",
       "    <tr>\n",
       "      <th>8398</th>\n",
       "      <td>4.0</td>\n",
       "      <td>599000</td>\n",
       "      <td>1924.0</td>\n",
       "      <td>3.0</td>\n",
       "      <td>train_images/train/2134.jpg</td>\n",
       "    </tr>\n",
       "    <tr>\n",
       "      <th>8399</th>\n",
       "      <td>5.0</td>\n",
       "      <td>549900</td>\n",
       "      <td>2867.0</td>\n",
       "      <td>3.0</td>\n",
       "      <td>train_images/train/6812.jpg</td>\n",
       "    </tr>\n",
       "  </tbody>\n",
       "</table>\n",
       "<p>8400 rows × 5 columns</p>\n",
       "</div>"
      ],
      "text/plain": [
       "      rooms  retail_price    sqft  toilets                          path\n",
       "0       2.0        299000  1295.0      2.0   train_images/train/5832.jpg\n",
       "1       3.0        299000  1566.0      2.0   train_images/train/5584.jpg\n",
       "2       5.0        499990  3068.0      3.0   train_images/train/9408.jpg\n",
       "3       4.0        849900  2230.0      2.1   train_images/train/4644.jpg\n",
       "4       3.0        333490  1898.0      2.0   train_images/train/5739.jpg\n",
       "...     ...           ...     ...      ...                           ...\n",
       "8395    4.0        289990  1498.0      2.0    train_images/train/792.jpg\n",
       "8396    4.0        895000  2981.0      3.0  train_images/train/10671.jpg\n",
       "8397    3.0        479900  1272.0      1.0  train_images/train/11650.jpg\n",
       "8398    4.0        599000  1924.0      3.0   train_images/train/2134.jpg\n",
       "8399    5.0        549900  2867.0      3.0   train_images/train/6812.jpg\n",
       "\n",
       "[8400 rows x 5 columns]"
      ]
     },
     "execution_count": 16,
     "metadata": {},
     "output_type": "execute_result"
    }
   ],
   "source": [
    "df"
   ]
  },
  {
   "cell_type": "code",
   "execution_count": 122,
   "id": "88ecc74d",
   "metadata": {},
   "outputs": [],
   "source": [
    "def data_generator(sample,batch=8):\n",
    "    num_sample=len(sample)\n",
    "    for offset in range(0,num_sample,batch):\n",
    "        end=offset+batch\n",
    "        if (offset==len(sample)):\n",
    "            end=None\n",
    "        batch_samples=np.array(sample[offset:end])\n",
    "        data=sample[offset:end]\n",
    "        image_=[]\n",
    "        for batch_sample in batch_samples:\n",
    "            img=cv2.imread(batch_sample[4])\n",
    "            img=cv2.resize(img, (150, 150))\n",
    "            img=np.array(img)\n",
    "            image_.append(img)\n",
    "        detail=data.drop(['retail_price','path'],axis=1)\n",
    "        price=data['retail_price']\n",
    "        image_=np.array(image_)\n",
    "        yield [image_,detail.to_numpy()],price.to_numpy()"
   ]
  },
  {
   "cell_type": "code",
   "execution_count": 123,
   "id": "7f126213",
   "metadata": {},
   "outputs": [],
   "source": [
    "train_data=data_generator(df,1)"
   ]
  },
  {
   "cell_type": "code",
   "execution_count": 161,
   "id": "1c94da1f",
   "metadata": {},
   "outputs": [
    {
     "name": "stdout",
     "output_type": "stream",
     "text": [
      "WARNING:tensorflow:Please add `keras.layers.InputLayer` instead of `keras.Input` to Sequential model. `keras.Input` is intended to be used by Functional model.\n"
     ]
    }
   ],
   "source": [
    "img_decoder=tf.keras.Sequential([\n",
    "    Input(shape=(150,150,3)),\n",
    "    Conv2D(32,(3,3),activation='relu'),\n",
    "    MaxPooling2D(2,2),\n",
    "    Conv2D(32,(3,3),activation='relu'),\n",
    "    MaxPooling2D(2,2),\n",
    "    Conv2D(16,(3,3),activation='relu'),\n",
    "    MaxPooling2D(2,2),\n",
    "    Conv2D(8,(3,3),activation='relu'),\n",
    "    MaxPooling2D(2,2),\n",
    "    Flatten(),\n",
    "    Dense(128,activation='tanh'),\n",
    "    Dense(64,activation='tanh'),\n",
    "    Dense(3),\n",
    "])"
   ]
  },
  {
   "cell_type": "code",
   "execution_count": 162,
   "id": "e2efe673",
   "metadata": {},
   "outputs": [],
   "source": [
    "details_decoder=tf.keras.Sequential([\n",
    "    Dense(3,activation='relu'),\n",
    "])"
   ]
  },
  {
   "cell_type": "code",
   "execution_count": 163,
   "id": "373f3b78",
   "metadata": {},
   "outputs": [],
   "source": [
    "input_1=tf.keras.layers.Input(shape=(150,150,3))\n",
    "m_1=img_decoder(input_1)\n",
    "input_2=tf.keras.layers.Input(shape=(3,))\n",
    "m_2=details_decoder(input_2)"
   ]
  },
  {
   "cell_type": "code",
   "execution_count": 164,
   "id": "677fe3cc",
   "metadata": {},
   "outputs": [],
   "source": [
    "output = tf.keras.layers.Concatenate(axis=1)([m_1,m_2])\n",
    "#output = tf.keras.layers.Dot(axes=-1)([m_1,m_2])\n",
    "output = tf.keras.layers.Dense(64,activation='relu')(output)\n",
    "output = tf.keras.layers.Dense(64,activation='relu')(output)\n",
    "output = tf.keras.layers.Dense(1)(output)\n",
    "\n",
    "model=tf.keras.Model([input_1,input_2],output)"
   ]
  },
  {
   "cell_type": "code",
   "execution_count": 165,
   "id": "85957197",
   "metadata": {},
   "outputs": [
    {
     "name": "stdout",
     "output_type": "stream",
     "text": [
      "Model: \"model_11\"\n",
      "__________________________________________________________________________________________________\n",
      "Layer (type)                    Output Shape         Param #     Connected to                     \n",
      "==================================================================================================\n",
      "input_48 (InputLayer)           [(None, 150, 150, 3) 0                                            \n",
      "__________________________________________________________________________________________________\n",
      "input_49 (InputLayer)           [(None, 3)]          0                                            \n",
      "__________________________________________________________________________________________________\n",
      "sequential_22 (Sequential)      (None, 3)            74683       input_48[0][0]                   \n",
      "__________________________________________________________________________________________________\n",
      "sequential_23 (Sequential)      (None, 3)            12          input_49[0][0]                   \n",
      "__________________________________________________________________________________________________\n",
      "concatenate_12 (Concatenate)    (None, 6)            0           sequential_22[0][0]              \n",
      "                                                                 sequential_23[0][0]              \n",
      "__________________________________________________________________________________________________\n",
      "dense_72 (Dense)                (None, 64)           448         concatenate_12[0][0]             \n",
      "__________________________________________________________________________________________________\n",
      "dense_73 (Dense)                (None, 64)           4160        dense_72[0][0]                   \n",
      "__________________________________________________________________________________________________\n",
      "dense_74 (Dense)                (None, 1)            65          dense_73[0][0]                   \n",
      "==================================================================================================\n",
      "Total params: 79,368\n",
      "Trainable params: 79,368\n",
      "Non-trainable params: 0\n",
      "__________________________________________________________________________________________________\n"
     ]
    }
   ],
   "source": [
    "model.summary()"
   ]
  },
  {
   "cell_type": "code",
   "execution_count": 166,
   "id": "68a3ca3a",
   "metadata": {},
   "outputs": [],
   "source": [
    "cost_fn = tf.keras.losses.MeanAbsoluteError()\n",
    "opt = tf.keras.optimizers.RMSprop(learning_rate=0.001)\n",
    "model.compile(optimizer=opt,\n",
    "              loss=cost_fn)"
   ]
  },
  {
   "cell_type": "code",
   "execution_count": 167,
   "id": "b03a4a70",
   "metadata": {
    "scrolled": true
   },
   "outputs": [
    {
     "name": "stdout",
     "output_type": "stream",
     "text": [
      "6000/6000 [==============================] - 42s 7ms/step - loss: 261438.0156 - val_loss: 232444.8594\n",
      "6000/6000 [==============================] - 40s 7ms/step - loss: 235014.5469 - val_loss: 229839.3281\n",
      "6000/6000 [==============================] - 42s 7ms/step - loss: 232719.6562 - val_loss: 227803.1406\n",
      "6000/6000 [==============================] - 40s 7ms/step - loss: 231116.7969 - val_loss: 226610.5938\n",
      "6000/6000 [==============================] - 39s 6ms/step - loss: 230334.3750 - val_loss: 225815.3906\n",
      "6000/6000 [==============================] - 38s 6ms/step - loss: 230008.7969 - val_loss: 225313.1719\n",
      "6000/6000 [==============================] - 40s 7ms/step - loss: 229886.2969 - val_loss: 225157.5938\n",
      "6000/6000 [==============================] - 38s 6ms/step - loss: 229863.0781 - val_loss: 225076.4219\n",
      "6000/6000 [==============================] - 38s 6ms/step - loss: 229849.2656 - val_loss: 225138.7500\n",
      "6000/6000 [==============================] - 39s 6ms/step - loss: 229783.3125 - val_loss: 225081.8906\n"
     ]
    }
   ],
   "source": [
    "for _ in range(10):\n",
    "    train_data=data_generator(df[:6000],1)\n",
    "    val_data=data_generator(df[6000:],1)\n",
    "    model.fit(train_data,validation_data=val_data)"
   ]
  },
  {
   "cell_type": "code",
   "execution_count": 180,
   "id": "ca60d2f7",
   "metadata": {},
   "outputs": [],
   "source": [
    "def test_data_generator(sample,batch=8):\n",
    "    num_sample=len(sample)\n",
    "    for offset in range(0,num_sample,batch):\n",
    "        end=offset+batch\n",
    "        if (offset==len(sample)):\n",
    "            end=None\n",
    "        batch_samples=np.array(sample[offset:end])\n",
    "        data=sample[offset:end]\n",
    "        image_=[]\n",
    "        for batch_sample in batch_samples:\n",
    "            img=cv2.imread(batch_sample[3])\n",
    "            img=cv2.resize(img, (150, 150))\n",
    "            img=np.array(img)\n",
    "            image_.append(img)\n",
    "        detail=data.drop(['path'],axis=1)\n",
    "        image_=np.array(image_)\n",
    "        yield [image_,detail.to_numpy()]"
   ]
  },
  {
   "cell_type": "code",
   "execution_count": 169,
   "id": "a23497e8",
   "metadata": {},
   "outputs": [],
   "source": [
    "test_df=pd.read_csv(\"test.csv\")"
   ]
  },
  {
   "cell_type": "code",
   "execution_count": 171,
   "id": "77a2dc4b",
   "metadata": {},
   "outputs": [
    {
     "data": {
      "text/html": [
       "<div>\n",
       "<style scoped>\n",
       "    .dataframe tbody tr th:only-of-type {\n",
       "        vertical-align: middle;\n",
       "    }\n",
       "\n",
       "    .dataframe tbody tr th {\n",
       "        vertical-align: top;\n",
       "    }\n",
       "\n",
       "    .dataframe thead th {\n",
       "        text-align: right;\n",
       "    }\n",
       "</style>\n",
       "<table border=\"1\" class=\"dataframe\">\n",
       "  <thead>\n",
       "    <tr style=\"text-align: right;\">\n",
       "      <th></th>\n",
       "      <th>index</th>\n",
       "      <th>rooms</th>\n",
       "      <th>address</th>\n",
       "      <th>city</th>\n",
       "      <th>sqft</th>\n",
       "      <th>toilets</th>\n",
       "      <th>image_id</th>\n",
       "    </tr>\n",
       "  </thead>\n",
       "  <tbody>\n",
       "    <tr>\n",
       "      <th>0</th>\n",
       "      <td>3076</td>\n",
       "      <td>3</td>\n",
       "      <td>33171 Sea Lion Drive</td>\n",
       "      <td>Dana Point, CA</td>\n",
       "      <td>1510</td>\n",
       "      <td>2.0</td>\n",
       "      <td>3076</td>\n",
       "    </tr>\n",
       "    <tr>\n",
       "      <th>1</th>\n",
       "      <td>3218</td>\n",
       "      <td>4</td>\n",
       "      <td>33 Segovia</td>\n",
       "      <td>San Clemente, CA</td>\n",
       "      <td>2342</td>\n",
       "      <td>3.0</td>\n",
       "      <td>3218</td>\n",
       "    </tr>\n",
       "    <tr>\n",
       "      <th>2</th>\n",
       "      <td>9213</td>\n",
       "      <td>2</td>\n",
       "      <td>1074 TAMARACK Road</td>\n",
       "      <td>Pinon Hills, CA</td>\n",
       "      <td>2845</td>\n",
       "      <td>3.0</td>\n",
       "      <td>9213</td>\n",
       "    </tr>\n",
       "    <tr>\n",
       "      <th>3</th>\n",
       "      <td>10018</td>\n",
       "      <td>4</td>\n",
       "      <td>10989 Coalinga Avenue</td>\n",
       "      <td>Montclair, CA</td>\n",
       "      <td>2379</td>\n",
       "      <td>3.0</td>\n",
       "      <td>10018</td>\n",
       "    </tr>\n",
       "    <tr>\n",
       "      <th>4</th>\n",
       "      <td>11355</td>\n",
       "      <td>4</td>\n",
       "      <td>1128 Custer</td>\n",
       "      <td>Campo, CA</td>\n",
       "      <td>1836</td>\n",
       "      <td>3.0</td>\n",
       "      <td>11355</td>\n",
       "    </tr>\n",
       "  </tbody>\n",
       "</table>\n",
       "</div>"
      ],
      "text/plain": [
       "   index  rooms                address              city  sqft  toilets  \\\n",
       "0   3076      3   33171 Sea Lion Drive    Dana Point, CA  1510      2.0   \n",
       "1   3218      4             33 Segovia  San Clemente, CA  2342      3.0   \n",
       "2   9213      2     1074 TAMARACK Road   Pinon Hills, CA  2845      3.0   \n",
       "3  10018      4  10989 Coalinga Avenue     Montclair, CA  2379      3.0   \n",
       "4  11355      4            1128 Custer         Campo, CA  1836      3.0   \n",
       "\n",
       "   image_id  \n",
       "0      3076  \n",
       "1      3218  \n",
       "2      9213  \n",
       "3     10018  \n",
       "4     11355  "
      ]
     },
     "execution_count": 171,
     "metadata": {},
     "output_type": "execute_result"
    }
   ],
   "source": [
    "test_df.head()"
   ]
  },
  {
   "cell_type": "code",
   "execution_count": 173,
   "id": "eff1d34e",
   "metadata": {},
   "outputs": [],
   "source": [
    "test_path=[]\n",
    "path=[]\n",
    "image_id=[]\n",
    "for id in test_df['image_id']:\n",
    "    i=0\n",
    "    path_=f\"test_images/test/{id}.jpg\"\n",
    "    i=i+1\n",
    "    test_path.append(path_)"
   ]
  },
  {
   "cell_type": "code",
   "execution_count": 176,
   "id": "c3a2397c",
   "metadata": {},
   "outputs": [],
   "source": [
    "test_=test_df.drop(['index','address','city','image_id'],axis=1)"
   ]
  },
  {
   "cell_type": "code",
   "execution_count": 178,
   "id": "d5bbbcda",
   "metadata": {},
   "outputs": [],
   "source": [
    "test_['path']=test_path"
   ]
  },
  {
   "cell_type": "code",
   "execution_count": 179,
   "id": "a2dad905",
   "metadata": {},
   "outputs": [
    {
     "data": {
      "text/html": [
       "<div>\n",
       "<style scoped>\n",
       "    .dataframe tbody tr th:only-of-type {\n",
       "        vertical-align: middle;\n",
       "    }\n",
       "\n",
       "    .dataframe tbody tr th {\n",
       "        vertical-align: top;\n",
       "    }\n",
       "\n",
       "    .dataframe thead th {\n",
       "        text-align: right;\n",
       "    }\n",
       "</style>\n",
       "<table border=\"1\" class=\"dataframe\">\n",
       "  <thead>\n",
       "    <tr style=\"text-align: right;\">\n",
       "      <th></th>\n",
       "      <th>rooms</th>\n",
       "      <th>sqft</th>\n",
       "      <th>toilets</th>\n",
       "      <th>path</th>\n",
       "    </tr>\n",
       "  </thead>\n",
       "  <tbody>\n",
       "    <tr>\n",
       "      <th>0</th>\n",
       "      <td>3</td>\n",
       "      <td>1510</td>\n",
       "      <td>2.0</td>\n",
       "      <td>test_images/test/3076.jpg</td>\n",
       "    </tr>\n",
       "    <tr>\n",
       "      <th>1</th>\n",
       "      <td>4</td>\n",
       "      <td>2342</td>\n",
       "      <td>3.0</td>\n",
       "      <td>test_images/test/3218.jpg</td>\n",
       "    </tr>\n",
       "    <tr>\n",
       "      <th>2</th>\n",
       "      <td>2</td>\n",
       "      <td>2845</td>\n",
       "      <td>3.0</td>\n",
       "      <td>test_images/test/9213.jpg</td>\n",
       "    </tr>\n",
       "    <tr>\n",
       "      <th>3</th>\n",
       "      <td>4</td>\n",
       "      <td>2379</td>\n",
       "      <td>3.0</td>\n",
       "      <td>test_images/test/10018.jpg</td>\n",
       "    </tr>\n",
       "    <tr>\n",
       "      <th>4</th>\n",
       "      <td>4</td>\n",
       "      <td>1836</td>\n",
       "      <td>3.0</td>\n",
       "      <td>test_images/test/11355.jpg</td>\n",
       "    </tr>\n",
       "    <tr>\n",
       "      <th>...</th>\n",
       "      <td>...</td>\n",
       "      <td>...</td>\n",
       "      <td>...</td>\n",
       "      <td>...</td>\n",
       "    </tr>\n",
       "    <tr>\n",
       "      <th>3596</th>\n",
       "      <td>4</td>\n",
       "      <td>2092</td>\n",
       "      <td>2.1</td>\n",
       "      <td>test_images/test/9421.jpg</td>\n",
       "    </tr>\n",
       "    <tr>\n",
       "      <th>3597</th>\n",
       "      <td>3</td>\n",
       "      <td>2000</td>\n",
       "      <td>2.1</td>\n",
       "      <td>test_images/test/219.jpg</td>\n",
       "    </tr>\n",
       "    <tr>\n",
       "      <th>3598</th>\n",
       "      <td>5</td>\n",
       "      <td>3002</td>\n",
       "      <td>3.1</td>\n",
       "      <td>test_images/test/10333.jpg</td>\n",
       "    </tr>\n",
       "    <tr>\n",
       "      <th>3599</th>\n",
       "      <td>3</td>\n",
       "      <td>1811</td>\n",
       "      <td>3.1</td>\n",
       "      <td>test_images/test/2814.jpg</td>\n",
       "    </tr>\n",
       "    <tr>\n",
       "      <th>3600</th>\n",
       "      <td>3</td>\n",
       "      <td>1376</td>\n",
       "      <td>2.0</td>\n",
       "      <td>test_images/test/11190.jpg</td>\n",
       "    </tr>\n",
       "  </tbody>\n",
       "</table>\n",
       "<p>3601 rows × 4 columns</p>\n",
       "</div>"
      ],
      "text/plain": [
       "      rooms  sqft  toilets                        path\n",
       "0         3  1510      2.0   test_images/test/3076.jpg\n",
       "1         4  2342      3.0   test_images/test/3218.jpg\n",
       "2         2  2845      3.0   test_images/test/9213.jpg\n",
       "3         4  2379      3.0  test_images/test/10018.jpg\n",
       "4         4  1836      3.0  test_images/test/11355.jpg\n",
       "...     ...   ...      ...                         ...\n",
       "3596      4  2092      2.1   test_images/test/9421.jpg\n",
       "3597      3  2000      2.1    test_images/test/219.jpg\n",
       "3598      5  3002      3.1  test_images/test/10333.jpg\n",
       "3599      3  1811      3.1   test_images/test/2814.jpg\n",
       "3600      3  1376      2.0  test_images/test/11190.jpg\n",
       "\n",
       "[3601 rows x 4 columns]"
      ]
     },
     "execution_count": 179,
     "metadata": {},
     "output_type": "execute_result"
    }
   ],
   "source": [
    "test_"
   ]
  },
  {
   "cell_type": "code",
   "execution_count": 185,
   "id": "5c5423e9",
   "metadata": {},
   "outputs": [],
   "source": [
    "test_data=test_data_generator(test_,1)`"
   ]
  },
  {
   "cell_type": "code",
   "execution_count": 186,
   "id": "f8d5baa9",
   "metadata": {},
   "outputs": [],
   "source": [
    "pred =model.predict(test_data)"
   ]
  },
  {
   "cell_type": "code",
   "execution_count": 187,
   "id": "32304881",
   "metadata": {},
   "outputs": [
    {
     "data": {
      "text/plain": [
       "array([[482555.5 ],\n",
       "       [638673.3 ],\n",
       "       [736829.8 ],\n",
       "       ...,\n",
       "       [767492.06],\n",
       "       [538274.7 ],\n",
       "       [458078.4 ]], dtype=float32)"
      ]
     },
     "execution_count": 187,
     "metadata": {},
     "output_type": "execute_result"
    }
   ],
   "source": [
    "pred"
   ]
  },
  {
   "cell_type": "code",
   "execution_count": 189,
   "id": "8ca85b9d",
   "metadata": {},
   "outputs": [],
   "source": [
    "pred_df=pd.DataFrame()\n",
    "pred_df['image_id']=test_df['image_id']\n",
    "pred_df['Price']=pred"
   ]
  },
  {
   "cell_type": "code",
   "execution_count": 190,
   "id": "727a6ba9",
   "metadata": {},
   "outputs": [
    {
     "data": {
      "text/html": [
       "<div>\n",
       "<style scoped>\n",
       "    .dataframe tbody tr th:only-of-type {\n",
       "        vertical-align: middle;\n",
       "    }\n",
       "\n",
       "    .dataframe tbody tr th {\n",
       "        vertical-align: top;\n",
       "    }\n",
       "\n",
       "    .dataframe thead th {\n",
       "        text-align: right;\n",
       "    }\n",
       "</style>\n",
       "<table border=\"1\" class=\"dataframe\">\n",
       "  <thead>\n",
       "    <tr style=\"text-align: right;\">\n",
       "      <th></th>\n",
       "      <th>image_id</th>\n",
       "      <th>Price</th>\n",
       "    </tr>\n",
       "  </thead>\n",
       "  <tbody>\n",
       "    <tr>\n",
       "      <th>0</th>\n",
       "      <td>3076</td>\n",
       "      <td>482555.5000</td>\n",
       "    </tr>\n",
       "    <tr>\n",
       "      <th>1</th>\n",
       "      <td>3218</td>\n",
       "      <td>638673.3125</td>\n",
       "    </tr>\n",
       "    <tr>\n",
       "      <th>2</th>\n",
       "      <td>9213</td>\n",
       "      <td>736829.8125</td>\n",
       "    </tr>\n",
       "    <tr>\n",
       "      <th>3</th>\n",
       "      <td>10018</td>\n",
       "      <td>646059.8125</td>\n",
       "    </tr>\n",
       "    <tr>\n",
       "      <th>4</th>\n",
       "      <td>11355</td>\n",
       "      <td>542856.4375</td>\n",
       "    </tr>\n",
       "  </tbody>\n",
       "</table>\n",
       "</div>"
      ],
      "text/plain": [
       "   image_id        Price\n",
       "0      3076  482555.5000\n",
       "1      3218  638673.3125\n",
       "2      9213  736829.8125\n",
       "3     10018  646059.8125\n",
       "4     11355  542856.4375"
      ]
     },
     "execution_count": 190,
     "metadata": {},
     "output_type": "execute_result"
    }
   ],
   "source": [
    "pred_df.head()"
   ]
  },
  {
   "cell_type": "code",
   "execution_count": 191,
   "id": "ae96ae8b",
   "metadata": {},
   "outputs": [],
   "source": [
    "pred_df.to_csv(\"pred_df.csv\",index=False)"
   ]
  },
  {
   "cell_type": "code",
   "execution_count": null,
   "id": "f292ef30",
   "metadata": {},
   "outputs": [],
   "source": []
  }
 ],
 "metadata": {
  "kernelspec": {
   "display_name": "Python 3 (ipykernel)",
   "language": "python",
   "name": "python3"
  },
  "language_info": {
   "codemirror_mode": {
    "name": "ipython",
    "version": 3
   },
   "file_extension": ".py",
   "mimetype": "text/x-python",
   "name": "python",
   "nbconvert_exporter": "python",
   "pygments_lexer": "ipython3",
   "version": "3.9.15"
  }
 },
 "nbformat": 4,
 "nbformat_minor": 5
}
